{
  "nbformat": 4,
  "nbformat_minor": 0,
  "metadata": {
    "kernelspec": {
      "name": "python3",
      "display_name": "Python 3"
    },
    "colab": {
      "name": "test_preprocessing.ipynb",
      "provenance": [],
      "collapsed_sections": [],
      "toc_visible": true,
      "include_colab_link": true
    }
  },
  "cells": [
    {
      "cell_type": "markdown",
      "metadata": {
        "id": "view-in-github",
        "colab_type": "text"
      },
      "source": [
        "<a href=\"https://colab.research.google.com/github/matzewolf/my-colab-notebooks/blob/master/test_preprocessing.ipynb\" target=\"_parent\"><img src=\"https://colab.research.google.com/assets/colab-badge.svg\" alt=\"Open In Colab\"/></a>"
      ]
    },
    {
      "cell_type": "markdown",
      "metadata": {
        "id": "zNuhojpJ8Q27",
        "colab_type": "text"
      },
      "source": [
        "# Import and preprocess data\n",
        "\n",
        "Datasets:\n",
        "\n",
        "- fer2013\n",
        "\n",
        "First, some preparations for the notebook: Import libraries and connect to Google Drive."
      ]
    },
    {
      "cell_type": "code",
      "metadata": {
        "id": "UkQPkwuB8Q2t",
        "colab_type": "code",
        "outputId": "33e4a775-efe9-4087-ad95-39cc578df483",
        "colab": {
          "base_uri": "https://localhost:8080/",
          "height": 34
        }
      },
      "source": [
        "import os\n",
        "import numpy as np\n",
        "import pandas as pd\n",
        "import matplotlib.pyplot as plt\n",
        "\n",
        "# Upload dataset into Colab\n",
        "from google.colab import files\n",
        "\n",
        "# Connect Colab with Google Drive to save output files\n",
        "from google.colab import drive\n",
        "drive.mount('/content/drive')"
      ],
      "execution_count": 0,
      "outputs": [
        {
          "output_type": "stream",
          "text": [
            "Drive already mounted at /content/drive; to attempt to forcibly remount, call drive.mount(\"/content/drive\", force_remount=True).\n"
          ],
          "name": "stdout"
        }
      ]
    },
    {
      "cell_type": "markdown",
      "metadata": {
        "id": "Nci_-HzKiSi_",
        "colab_type": "text"
      },
      "source": [
        "Define some constants:"
      ]
    },
    {
      "cell_type": "code",
      "metadata": {
        "id": "sfCc2Csm8Q2_",
        "colab_type": "code",
        "colab": {}
      },
      "source": [
        "# Paths\n",
        "DATA_PATH    = \"/content/drive/My Drive/Colab Notebooks/bsc_fer_cnn/data\"\n",
        "FER2013_PATH = \"/content/drive/My Drive/Colab Notebooks/bsc_fer_cnn/fer2013.csv\"\n",
        "\n",
        "# Constants for FER2013 dataset\n",
        "FER2013_WIDTH = 48\n",
        "FER2013_HEIGHT = 48"
      ],
      "execution_count": 0,
      "outputs": []
    },
    {
      "cell_type": "markdown",
      "metadata": {
        "id": "q3J9wuobiX-B",
        "colab_type": "text"
      },
      "source": [
        "To read the dataset into a Pandas dataframe, select a csv file from your local filesystem:"
      ]
    },
    {
      "cell_type": "code",
      "metadata": {
        "id": "1XUOg2Jq8Q3N",
        "colab_type": "code",
        "outputId": "0b0d81fe-b304-43a0-f36f-90f9bfd29bca",
        "colab": {
          "base_uri": "https://localhost:8080/",
          "height": 204
        }
      },
      "source": [
        "data = pd.read_csv(FER2013_PATH)\n",
        "data.head()"
      ],
      "execution_count": 0,
      "outputs": [
        {
          "output_type": "execute_result",
          "data": {
            "text/html": [
              "<div>\n",
              "<style scoped>\n",
              "    .dataframe tbody tr th:only-of-type {\n",
              "        vertical-align: middle;\n",
              "    }\n",
              "\n",
              "    .dataframe tbody tr th {\n",
              "        vertical-align: top;\n",
              "    }\n",
              "\n",
              "    .dataframe thead th {\n",
              "        text-align: right;\n",
              "    }\n",
              "</style>\n",
              "<table border=\"1\" class=\"dataframe\">\n",
              "  <thead>\n",
              "    <tr style=\"text-align: right;\">\n",
              "      <th></th>\n",
              "      <th>emotion</th>\n",
              "      <th>pixels</th>\n",
              "      <th>Usage</th>\n",
              "    </tr>\n",
              "  </thead>\n",
              "  <tbody>\n",
              "    <tr>\n",
              "      <th>0</th>\n",
              "      <td>0</td>\n",
              "      <td>70 80 82 72 58 58 60 63 54 58 60 48 89 115 121...</td>\n",
              "      <td>Training</td>\n",
              "    </tr>\n",
              "    <tr>\n",
              "      <th>1</th>\n",
              "      <td>0</td>\n",
              "      <td>151 150 147 155 148 133 111 140 170 174 182 15...</td>\n",
              "      <td>Training</td>\n",
              "    </tr>\n",
              "    <tr>\n",
              "      <th>2</th>\n",
              "      <td>2</td>\n",
              "      <td>231 212 156 164 174 138 161 173 182 200 106 38...</td>\n",
              "      <td>Training</td>\n",
              "    </tr>\n",
              "    <tr>\n",
              "      <th>3</th>\n",
              "      <td>4</td>\n",
              "      <td>24 32 36 30 32 23 19 20 30 41 21 22 32 34 21 1...</td>\n",
              "      <td>Training</td>\n",
              "    </tr>\n",
              "    <tr>\n",
              "      <th>4</th>\n",
              "      <td>6</td>\n",
              "      <td>4 0 0 0 0 0 0 0 0 0 0 0 3 15 23 28 48 50 58 84...</td>\n",
              "      <td>Training</td>\n",
              "    </tr>\n",
              "  </tbody>\n",
              "</table>\n",
              "</div>"
            ],
            "text/plain": [
              "   emotion                                             pixels     Usage\n",
              "0        0  70 80 82 72 58 58 60 63 54 58 60 48 89 115 121...  Training\n",
              "1        0  151 150 147 155 148 133 111 140 170 174 182 15...  Training\n",
              "2        2  231 212 156 164 174 138 161 173 182 200 106 38...  Training\n",
              "3        4  24 32 36 30 32 23 19 20 30 41 21 22 32 34 21 1...  Training\n",
              "4        6  4 0 0 0 0 0 0 0 0 0 0 0 3 15 23 28 48 50 58 84...  Training"
            ]
          },
          "metadata": {
            "tags": []
          },
          "execution_count": 5
        }
      ]
    },
    {
      "cell_type": "code",
      "metadata": {
        "id": "REd5A3wx8Q3a",
        "colab_type": "code",
        "outputId": "052b660b-3871-4068-e37a-3d30c3d03ec1",
        "colab": {
          "base_uri": "https://localhost:8080/",
          "height": 153
        }
      },
      "source": [
        "data.info()"
      ],
      "execution_count": 0,
      "outputs": [
        {
          "output_type": "stream",
          "text": [
            "<class 'pandas.core.frame.DataFrame'>\n",
            "RangeIndex: 35887 entries, 0 to 35886\n",
            "Data columns (total 3 columns):\n",
            "emotion    35887 non-null int64\n",
            "pixels     35887 non-null object\n",
            "Usage      35887 non-null object\n",
            "dtypes: int64(1), object(2)\n",
            "memory usage: 841.2+ KB\n"
          ],
          "name": "stdout"
        }
      ]
    },
    {
      "cell_type": "code",
      "metadata": {
        "id": "1hWZm6uA8Q3r",
        "colab_type": "code",
        "outputId": "964efd41-fd1f-492a-8563-16fe272e7981",
        "colab": {
          "base_uri": "https://localhost:8080/",
          "height": 85
        }
      },
      "source": [
        "data[\"Usage\"].value_counts()"
      ],
      "execution_count": 0,
      "outputs": [
        {
          "output_type": "execute_result",
          "data": {
            "text/plain": [
              "Training       28709\n",
              "PrivateTest     3589\n",
              "PublicTest      3589\n",
              "Name: Usage, dtype: int64"
            ]
          },
          "metadata": {
            "tags": []
          },
          "execution_count": 7
        }
      ]
    },
    {
      "cell_type": "code",
      "metadata": {
        "id": "V-niXakd8Q30",
        "colab_type": "code",
        "colab": {}
      },
      "source": [
        "# Seperate training and public/private test data\n",
        "data_publ_test = data[data.Usage==\"PublicTest\"]\n",
        "data_priv_test = data[data.Usage==\"PrivateTest\"]\n",
        "data = data[data.Usage==\"Training\"]"
      ],
      "execution_count": 0,
      "outputs": []
    },
    {
      "cell_type": "code",
      "metadata": {
        "id": "PRFV-pto8Q3_",
        "colab_type": "code",
        "colab": {}
      },
      "source": [
        "Emotions = [\"Angry\", \"Disgust\", \"Fear\", \"Happy\", \"Sad\", \"Surprise\", \"Neutral\"]  # indices 0 to 6"
      ],
      "execution_count": 0,
      "outputs": []
    },
    {
      "cell_type": "code",
      "metadata": {
        "id": "fKrPM1SO8Q4H",
        "colab_type": "code",
        "outputId": "8074b878-b0a3-44c2-ba31-02adbb89f2ab",
        "colab": {
          "base_uri": "https://localhost:8080/",
          "height": 153
        }
      },
      "source": [
        "data[\"emotion\"].value_counts(sort=False)"
      ],
      "execution_count": 0,
      "outputs": [
        {
          "output_type": "execute_result",
          "data": {
            "text/plain": [
              "0    3995\n",
              "1     436\n",
              "2    4097\n",
              "3    7215\n",
              "4    4830\n",
              "5    3171\n",
              "6    4965\n",
              "Name: emotion, dtype: int64"
            ]
          },
          "metadata": {
            "tags": []
          },
          "execution_count": 10
        }
      ]
    },
    {
      "cell_type": "code",
      "metadata": {
        "id": "Aq9zIpli8Q4R",
        "colab_type": "code",
        "colab": {}
      },
      "source": [
        "def fer2013_show_instance(index):\n",
        "    \"\"\"Shows the image and the emotion label of the index's instance.\"\"\"\n",
        "    image = np.reshape(data.at[index, \"pixels\"].split(\" \"), (FER2013_WIDTH, FER2013_HEIGHT)).astype(\"float\")\n",
        "    print(Emotions[data.at[index, \"emotion\"]])\n",
        "    plt.imshow(image, cmap=\"gray\")"
      ],
      "execution_count": 0,
      "outputs": []
    },
    {
      "cell_type": "code",
      "metadata": {
        "id": "jt0pBoQk8Q4b",
        "colab_type": "code",
        "outputId": "fc7703de-5de4-4991-f25e-fc8e4df16e0f",
        "colab": {
          "base_uri": "https://localhost:8080/",
          "height": 286
        }
      },
      "source": [
        "fer2013_show_instance(np.random.randint(0,len(data)))"
      ],
      "execution_count": 0,
      "outputs": [
        {
          "output_type": "stream",
          "text": [
            "Neutral\n"
          ],
          "name": "stdout"
        },
        {
          "output_type": "display_data",
          "data": {
            "image/png": "[encoded data removed]",
            "text/plain": [
              "<Figure size 432x288 with 1 Axes>"
            ]
          },
          "metadata": {
            "tags": []
          }
        }
      ]
    },
    {
      "cell_type": "code",
      "metadata": {
        "id": "nSTjdPjM8Q4n",
        "colab_type": "code",
        "colab": {}
      },
      "source": [
        "def fer2013_to_X(dataset=data):\n",
        "    \"\"\"Transforms the (blank separated) pixel strings in the DataFrame to an 3-dimensional array \n",
        "    (1st dim: instances, 2nd and 3rd dims represent 2D image).\"\"\"\n",
        "    \n",
        "    X = []\n",
        "    pixels_list = dataset[\"pixels\"].values\n",
        "    \n",
        "    for pixels in pixels_list:\n",
        "        single_image = np.reshape(pixels.split(\" \"), (FER2013_WIDTH, FER2013_HEIGHT)).astype(\"float\")\n",
        "        X.append(single_image)\n",
        "        \n",
        "    # Convert list to 4D array:\n",
        "    X = np.expand_dims(np.array(X), -1)\n",
        "    \n",
        "    return X"
      ],
      "execution_count": 0,
      "outputs": []
    },
    {
      "cell_type": "code",
      "metadata": {
        "id": "mT20_nw98Q4x",
        "colab_type": "code",
        "outputId": "617992b8-2755-441c-a190-f891ef860cc1",
        "colab": {
          "base_uri": "https://localhost:8080/",
          "height": 34
        }
      },
      "source": [
        "# Get features (image data)\n",
        "X = fer2013_to_X()\n",
        "X.shape"
      ],
      "execution_count": 0,
      "outputs": [
        {
          "output_type": "execute_result",
          "data": {
            "text/plain": [
              "(28709, 48, 48, 1)"
            ]
          },
          "metadata": {
            "tags": []
          },
          "execution_count": 31
        }
      ]
    },
    {
      "cell_type": "markdown",
      "metadata": {
        "id": "ShSqad_Qg7uE",
        "colab_type": "text"
      },
      "source": [
        "Now let's get the labels, which is the emotion category encoded in integers $\\in [0,6]$.\n",
        "\n",
        "**Caution:** Keras' `sparse_categorical_crossentropy` loss does not work with one-hot-encoded data, which is why we leave the integer representation as is.\n",
        "\n",
        "See also: https://datascience.stackexchange.com/questions/41921/sparse-categorical-crossentropy-vs-categorical-crossentropy-keras-accuracy"
      ]
    },
    {
      "cell_type": "code",
      "metadata": {
        "id": "aw1R4gKD8Q4-",
        "colab_type": "code",
        "outputId": "955de16b-7dd0-4515-88e7-a9ab174bb22b",
        "colab": {
          "base_uri": "https://localhost:8080/",
          "height": 34
        }
      },
      "source": [
        "# Get labels (NOT one-hot encoded!)\n",
        "y = data['emotion'].values\n",
        "y.shape"
      ],
      "execution_count": 0,
      "outputs": [
        {
          "output_type": "execute_result",
          "data": {
            "text/plain": [
              "(28709,)"
            ]
          },
          "metadata": {
            "tags": []
          },
          "execution_count": 32
        }
      ]
    },
    {
      "cell_type": "code",
      "metadata": {
        "id": "wC8LfEfPEv7i",
        "colab_type": "code",
        "outputId": "3e3f7c6e-d3f2-4c9e-e2fb-a6d016d6a3a8",
        "colab": {
          "base_uri": "https://localhost:8080/",
          "height": 34
        }
      },
      "source": [
        "# Get test features (image data)\n",
        "X_test = fer2013_to_X(dataset=data_publ_test)\n",
        "X_test.shape"
      ],
      "execution_count": 0,
      "outputs": [
        {
          "output_type": "execute_result",
          "data": {
            "text/plain": [
              "(3589, 48, 48, 1)"
            ]
          },
          "metadata": {
            "tags": []
          },
          "execution_count": 33
        }
      ]
    },
    {
      "cell_type": "code",
      "metadata": {
        "id": "weg-L7TOFiOJ",
        "colab_type": "code",
        "outputId": "ca6cfdf3-1b4b-4f73-f3e8-f452f8cfc72a",
        "colab": {
          "base_uri": "https://localhost:8080/",
          "height": 34
        }
      },
      "source": [
        "# Get test labels (NOT one-hot encoded!)\n",
        "y_test = data_publ_test['emotion'].values\n",
        "y_test.shape"
      ],
      "execution_count": 0,
      "outputs": [
        {
          "output_type": "execute_result",
          "data": {
            "text/plain": [
              "(3589,)"
            ]
          },
          "metadata": {
            "tags": []
          },
          "execution_count": 34
        }
      ]
    },
    {
      "cell_type": "code",
      "metadata": {
        "id": "kB9MYVz58Q5I",
        "colab_type": "code",
        "colab": {}
      },
      "source": [
        "# Save data\n",
        "np.save(os.path.join(DATA_PATH, \"fer2013_X\")     , X)\n",
        "np.save(os.path.join(DATA_PATH, \"fer2013_y\")     , y)\n",
        "np.save(os.path.join(DATA_PATH, \"fer2013_X_test\"), X_test)\n",
        "np.save(os.path.join(DATA_PATH, \"fer2013_y_test\"), y_test)"
      ],
      "execution_count": 0,
      "outputs": []
    }
  ]
}