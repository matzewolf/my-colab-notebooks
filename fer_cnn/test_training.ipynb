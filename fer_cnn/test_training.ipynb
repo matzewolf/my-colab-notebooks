{
  "nbformat": 4,
  "nbformat_minor": 0,
  "metadata": {
    "kernelspec": {
      "name": "python3",
      "display_name": "Python 3"
    },
    "colab": {
      "name": "test_training.ipynb",
      "provenance": [],
      "collapsed_sections": [],
      "toc_visible": true,
      "include_colab_link": true
    },
    "accelerator": "GPU"
  },
  "cells": [
    {
      "cell_type": "markdown",
      "metadata": {
        "id": "view-in-github",
        "colab_type": "text"
      },
      "source": [
        "<a href=\"https://colab.research.google.com/github/matzewolf/my-colab-notebooks/blob/master/fer_cnn/test_training.ipynb\" target=\"_parent\"><img src=\"https://colab.research.google.com/assets/colab-badge.svg\" alt=\"Open In Colab\"/></a>"
      ]
    },
    {
      "cell_type": "markdown",
      "metadata": {
        "id": "4odlQlJs3Peb",
        "colab_type": "text"
      },
      "source": [
        "# Build and train DNNs"
      ]
    },
    {
      "cell_type": "markdown",
      "metadata": {
        "id": "GJDbfKFSIWbK",
        "colab_type": "text"
      },
      "source": [
        "First, some preparations for the notebook:  \n",
        "- Necessary libraries are imported, especially TensorFlow 2.0 as Keras' backend and required submodules of Keras itself.\n",
        "- **For transfer learning, it is important to import pre-trained models, so called Applications, in Keras.**\n",
        "- Connect Colab notebook to Google Drive as a virtual filesystem, as the training data is stored there. This requires a new authentification for every fresh runtime.\n",
        "- Define some paths: The base path in Google Drive `GDRIVE_PATH` contains the training data at the `DATA_PATH` and information to each model (model parameters, training history and accuracy/loss plots) at the `MODEL_PATH`.\n",
        "- **Models sometimes cannot be saved because of a bug in Colab!**"
      ]
    },
    {
      "cell_type": "code",
      "metadata": {
        "id": "TmQuKpX03PeT",
        "colab_type": "code",
        "outputId": "cda5eb88-15fb-40ec-db91-56f6cecb635c",
        "colab": {
          "base_uri": "https://localhost:8080/",
          "height": 51
        }
      },
      "source": [
        "# General imports\n",
        "import os\n",
        "import pathlib\n",
        "import time\n",
        "import numpy as np\n",
        "import matplotlib.pyplot as plt\n",
        "import pandas as pd\n",
        "\n",
        "# Scikit-Learn imports\n",
        "from sklearn.model_selection import train_test_split\n",
        "\n",
        "# Import TensorFlow as Keras' backend\n",
        "try:\n",
        "    %tensorflow_version 2.x\n",
        "except Exception:\n",
        "    pass\n",
        "import tensorflow as tf\n",
        "print(\"Tensorflow version: \" + tf.__version__)\n",
        "assert tf.__version__ >= \"2.0\"\n",
        "\n",
        "# Import Keras modules\n",
        "from tensorflow.keras.preprocessing.image import ImageDataGenerator\n",
        "from tensorflow.keras.models import Model, Sequential\n",
        "from tensorflow.keras.layers import InputLayer, Dense, Conv2D, MaxPooling2D, Dropout, Flatten, GlobalAveragePooling2D\n",
        "from tensorflow.keras.callbacks import EarlyStopping, ModelCheckpoint\n",
        "# IMPORTANT: Import pre-trained models for transfer learning!\n",
        "from tensorflow.keras.applications import mobilenet_v2\n",
        "\n",
        "# Connect to Google Drive (requires authentification every new session)\n",
        "from google.colab import drive\n",
        "drive.mount('/content/drive')\n",
        "\n",
        "# Define paths\n",
        "GDRIVE_PATH = \"/content/drive/My Drive/Colab Notebooks/bsc_fer_cnn\"\n",
        "DATA_PATH   = os.path.join(GDRIVE_PATH, \"data\")\n",
        "MODEL_PATH  = os.path.join(GDRIVE_PATH, \"models\")"
      ],
      "execution_count": 19,
      "outputs": [
        {
          "output_type": "stream",
          "text": [
            "Tensorflow version: 2.0.0\n",
            "Drive already mounted at /content/drive; to attempt to forcibly remount, call drive.mount(\"/content/drive\", force_remount=True).\n"
          ],
          "name": "stdout"
        }
      ]
    },
    {
      "cell_type": "markdown",
      "metadata": {
        "id": "ejcY-azkpXSX",
        "colab_type": "text"
      },
      "source": [
        "## Training evaluation: plot accuracy/loss and save"
      ]
    },
    {
      "cell_type": "code",
      "metadata": {
        "id": "0vmh6hE8puWD",
        "colab_type": "code",
        "colab": {}
      },
      "source": [
        "def train_eval(history, figure_path):\n",
        "\n",
        "    fig = plt.figure(figsize=(8,12))\n",
        "\n",
        "    # Plot training & validation accuracy values\n",
        "    plt.subplot(2, 1, 1)\n",
        "    plt.plot(history.history['accuracy'])\n",
        "    plt.plot(history.history['val_accuracy'])\n",
        "    plt.gca().set_ylim(0, 1)\n",
        "    plt.grid(True)\n",
        "    plt.title('Model accuracy')\n",
        "    plt.ylabel('Accuracy')\n",
        "    plt.xlabel('Epoch')\n",
        "    plt.legend(['Train', 'Test'], loc='upper left')\n",
        "\n",
        "    # Plot training & validation loss values\n",
        "    plt.subplot(2, 1, 2)\n",
        "    plt.plot(history.history['loss'])\n",
        "    plt.plot(history.history['val_loss'])\n",
        "    plt.grid(True)\n",
        "    plt.title('Model loss')\n",
        "    plt.ylabel('Loss')\n",
        "    plt.xlabel('Epoch')\n",
        "    plt.legend(['Train', 'Test'], loc='lower left')\n",
        "\n",
        "    plt.savefig(figure_path)\n",
        "    plt.show()"
      ],
      "execution_count": 0,
      "outputs": []
    },
    {
      "cell_type": "markdown",
      "metadata": {
        "id": "sUP10hbLK1VT",
        "colab_type": "text"
      },
      "source": [
        "## Global definitions\n",
        "\n",
        "- Define shape of input data (training features). **CAUTION:** All pre-trained models require 3 channels (RGB) instead of just 1 (grayscale).\n",
        "- Load training set: features `X` and labels `y`\n",
        "- Convert training features from grayscale to RGB by just repeating the grayscale channel three times.\n",
        "- Split into train and validation datasets.\n",
        "- Define image data generators that preprocess the image data.\n",
        "- Define the Early Stopping callback to avoid overfitting."
      ]
    },
    {
      "cell_type": "code",
      "metadata": {
        "id": "m9KWX8r-aM60",
        "colab_type": "code",
        "colab": {}
      },
      "source": [
        "INPUT_SHAPE = (48, 48, 3)\n",
        "NUM_CLASSES = 7\n",
        "\n",
        "# Feature data - 1 channel (grayscale)\n",
        "X = np.load(os.path.join(DATA_PATH, \"fer2013_X.npy\"))\n",
        "# Feature data - 3 channels (RGB)\n",
        "X_rgb = np.repeat(X, 3, axis=3)\n",
        "# Labels\n",
        "y = np.load(os.path.join(DATA_PATH, \"fer2013_y.npy\"))\n",
        "\n",
        "# Split into training and validation data\n",
        "X_train,     X_val,     y_train, y_val = train_test_split(X,     y, \n",
        "                                                          test_size=0.2)\n",
        "X_train_rgb, X_val_rgb, y_train, y_val = train_test_split(X_rgb, y, \n",
        "                                                          test_size=0.2)\n",
        "\n",
        "# Define constants: Sample and batch size\n",
        "num_samples = np.size(X_train, 0)\n",
        "num_val_samples = np.size(X_val, 0)\n",
        "batch_size = 32\n",
        "\n",
        "# Image data generators\n",
        "train_datagen_wo_aug = ImageDataGenerator(rescale=1./255)\n",
        "train_datagen_w_aug  = ImageDataGenerator(rescale=1./255, \n",
        "                                          rotation_range=30, \n",
        "                                          width_shift_range=0.2, \n",
        "                                          height_shift_range=0.2, \n",
        "                                          horizontal_flip = 'true')             \n",
        "val_datagen          = ImageDataGenerator(rescale=1./255)\n",
        "\n",
        "# Generator flows\n",
        "train_gen_wo_aug     = train_datagen_wo_aug.flow(X_train, y_train, \n",
        "                                                 batch_size=batch_size, \n",
        "                                                 shuffle=False)\n",
        "train_gen_w_aug      = train_datagen_w_aug.flow (X_train, y_train, \n",
        "                                                 batch_size=batch_size,\n",
        "                                                 shuffle=False)\n",
        "train_rgb_gen_wo_aug = train_datagen_wo_aug.flow(X_train_rgb, y_train, \n",
        "                                                 batch_size=batch_size, \n",
        "                                                 shuffle=False)\n",
        "train_rgb_gen_w_aug  = train_datagen_w_aug.flow (X_train_rgb, y_train, \n",
        "                                                 batch_size=batch_size,\n",
        "                                                 shuffle=False)\n",
        "val_gen              = val_datagen.flow         (X_val, y_val, \n",
        "                                                 batch_size=batch_size,  \n",
        "                                                 shuffle=False)\n",
        "val_rgb_gen          = val_datagen.flow         (X_val_rgb, y_val, \n",
        "                                                 batch_size=batch_size,  \n",
        "                                                 shuffle=False)\n",
        "\n",
        "# Early stop callback\n",
        "early_stop = EarlyStopping(patience=2, restore_best_weights=True)"
      ],
      "execution_count": 0,
      "outputs": []
    },
    {
      "cell_type": "markdown",
      "metadata": {
        "id": "qO7w523UV_Cm",
        "colab_type": "text"
      },
      "source": [
        "## Definition of training a model"
      ]
    },
    {
      "cell_type": "markdown",
      "metadata": {
        "id": "x1VbeRaQ-qZd",
        "colab_type": "text"
      },
      "source": [
        "**Issue**: Because of a bug in Colab, saving model files is sometimes not possible.\n",
        "\n",
        "See also https://github.com/googlecolab/colabtools/issues/559"
      ]
    },
    {
      "cell_type": "code",
      "metadata": {
        "id": "eJqavTDdWIkp",
        "colab_type": "code",
        "colab": {}
      },
      "source": [
        "def train_model(model, name, augmentation=False, rgb=False, num_epochs=100):\n",
        "        \n",
        "    # Compile the model for multiclass classification\n",
        "    model.compile(optimizer='adam',\n",
        "                  loss='sparse_categorical_crossentropy',\n",
        "                  metrics=['accuracy'])\n",
        "\n",
        "    # Determine the generators to be used\n",
        "    if   rgb is False:\n",
        "        val_generator = val_gen\n",
        "        if   augmentation is False:\n",
        "            generator = train_gen_wo_aug\n",
        "        elif augmentation is True:\n",
        "            generator = train_gen_w_aug\n",
        "    elif rgb is True:\n",
        "        val_generator = val_rgb_gen\n",
        "        if   augmentation is False:\n",
        "            generator = train_rgb_gen_wo_aug\n",
        "        elif augmentation is True:\n",
        "            generator = train_rgb_gen_w_aug\n",
        "\n",
        "    # Create directory to save model, history and plots\n",
        "    name += time.strftime(\"_%Y-%m-%d_%H:%M:%S\")\n",
        "    save_dir = os.path.join(MODEL_PATH, name)\n",
        "    pathlib.Path(save_dir).mkdir(parents=True, exist_ok=True)\n",
        "\n",
        "    # Saving best model with checkpoint callback\n",
        "    model_path = os.path.join(save_dir, name + \".h5\")\n",
        "    checkpoint = ModelCheckpoint(model_path, save_best_only=True)\n",
        "\n",
        "    # Training the model\n",
        "    history = model.fit_generator(generator, \n",
        "                                  validation_data=val_generator,\n",
        "                                  steps_per_epoch=num_samples//batch_size,\n",
        "                                  validation_steps=num_val_samples//batch_size,\n",
        "                                  epochs=num_epochs,\n",
        "                                  callbacks=[early_stop, checkpoint])\n",
        "\n",
        "    # Saving history\n",
        "    history_path = os.path.join(save_dir, name + \".pkl\")\n",
        "    history_df = pd.DataFrame(history.history) \n",
        "    history_df.to_pickle(history_path)\n",
        "\n",
        "    # Saving plots\n",
        "    figure_path = os.path.join(save_dir, name + \".png\")\n",
        "    train_eval(history, figure_path)\n",
        "\n",
        "    return model, history"
      ],
      "execution_count": 0,
      "outputs": []
    },
    {
      "cell_type": "markdown",
      "metadata": {
        "id": "FM8xS3daabt6",
        "colab_type": "text"
      },
      "source": [
        "## Basic example: 2 conv + 2 dense"
      ]
    },
    {
      "cell_type": "code",
      "metadata": {
        "id": "YeNehr-m3Pec",
        "colab_type": "code",
        "outputId": "1481bca7-7a55-451b-c36f-42000bab6736",
        "colab": {
          "base_uri": "https://localhost:8080/",
          "height": 391
        }
      },
      "source": [
        "model = Sequential([\n",
        "    \n",
        "    Conv2D(256, (2, 2), input_shape=X.shape[1:], activation=\"relu\"),\n",
        "    MaxPooling2D(pool_size=(4, 4)),\n",
        "    \n",
        "    Conv2D(256, (2, 2), activation=\"relu\"),\n",
        "    MaxPooling2D(pool_size=(4, 4)),\n",
        "    \n",
        "    Flatten(),\n",
        "    Dense(64),\n",
        "    Dense(7, activation=\"softmax\")\n",
        "    \n",
        "])\n",
        "\n",
        "model.summary()"
      ],
      "execution_count": 17,
      "outputs": [
        {
          "output_type": "stream",
          "text": [
            "Model: \"sequential_2\"\n",
            "_________________________________________________________________\n",
            "Layer (type)                 Output Shape              Param #   \n",
            "=================================================================\n",
            "conv2d_4 (Conv2D)            (None, 47, 47, 256)       1280      \n",
            "_________________________________________________________________\n",
            "max_pooling2d_4 (MaxPooling2 (None, 11, 11, 256)       0         \n",
            "_________________________________________________________________\n",
            "conv2d_5 (Conv2D)            (None, 10, 10, 256)       262400    \n",
            "_________________________________________________________________\n",
            "max_pooling2d_5 (MaxPooling2 (None, 2, 2, 256)         0         \n",
            "_________________________________________________________________\n",
            "flatten_2 (Flatten)          (None, 1024)              0         \n",
            "_________________________________________________________________\n",
            "dense_4 (Dense)              (None, 64)                65600     \n",
            "_________________________________________________________________\n",
            "dense_5 (Dense)              (None, 7)                 455       \n",
            "=================================================================\n",
            "Total params: 329,735\n",
            "Trainable params: 329,735\n",
            "Non-trainable params: 0\n",
            "_________________________________________________________________\n"
          ],
          "name": "stdout"
        }
      ]
    },
    {
      "cell_type": "code",
      "metadata": {
        "id": "EwJU333E3Pej",
        "colab_type": "code",
        "outputId": "3ff0f9d3-d6da-4ae7-935d-4a4dfab38d93",
        "colab": {
          "base_uri": "https://localhost:8080/",
          "height": 934
        }
      },
      "source": [
        "model, history = train_model(model, name=\"test\")"
      ],
      "execution_count": 21,
      "outputs": [
        {
          "output_type": "stream",
          "text": [
            "Epoch 1/100\n",
            "717/717 [==============================] - 34s 48ms/step - loss: 1.8121 - accuracy: 0.2514 - val_loss: 1.8134 - val_accuracy: 0.2514\n",
            "Epoch 2/100\n",
            "717/717 [==============================] - 33s 46ms/step - loss: 1.8108 - accuracy: 0.2512 - val_loss: 1.8141 - val_accuracy: 0.2514\n",
            "Epoch 3/100\n",
            "717/717 [==============================] - 34s 48ms/step - loss: 1.8109 - accuracy: 0.2511 - val_loss: 1.8124 - val_accuracy: 0.2514\n",
            "Epoch 4/100\n",
            "717/717 [==============================] - 33s 47ms/step - loss: 1.8101 - accuracy: 0.2514 - val_loss: 1.8120 - val_accuracy: 0.2514\n",
            "Epoch 5/100\n",
            "717/717 [==============================] - 33s 46ms/step - loss: 1.8099 - accuracy: 0.2511 - val_loss: 1.8125 - val_accuracy: 0.2514\n",
            "Epoch 6/100\n",
            "717/717 [==============================] - 33s 46ms/step - loss: 1.8095 - accuracy: 0.2518 - val_loss: 1.8123 - val_accuracy: 0.2509\n"
          ],
          "name": "stdout"
        },
        {
          "output_type": "display_data",
          "data": {
            "image/png": "[encoded data removed]",
            "text/plain": [
              "<Figure size 432x864 with 2 Axes>"
            ]
          },
          "metadata": {
            "tags": []
          }
        }
      ]
    },
    {
      "cell_type": "markdown",
      "metadata": {
        "id": "j_EuEyKqaRgG",
        "colab_type": "text"
      },
      "source": [
        "## MobileNetV2 model without top layers for Transfer Learning"
      ]
    },
    {
      "cell_type": "code",
      "metadata": {
        "id": "rFmz9JCqaSzs",
        "colab_type": "code",
        "outputId": "18198553-9b89-47ad-fa07-3930a3c0773e",
        "colab": {
          "base_uri": "https://localhost:8080/",
          "height": 105
        }
      },
      "source": [
        "mnetv2 = mobilenet_v2.MobileNetV2(input_shape=INPUT_SHAPE, alpha=1.0, \n",
        "                                  include_top=False, weights='imagenet')"
      ],
      "execution_count": 0,
      "outputs": [
        {
          "output_type": "stream",
          "text": [
            "/tensorflow-2.0.0-rc2/python3.6/keras_applications/mobilenet_v2.py:294: UserWarning: `input_shape` is undefined or non-square, or `rows` is not in [96, 128, 160, 192, 224]. Weights for input shape (224, 224) will be loaded as the default.\n",
            "  warnings.warn('`input_shape` is undefined or non-square, '\n"
          ],
          "name": "stderr"
        },
        {
          "output_type": "stream",
          "text": [
            "Downloading data from https://github.com/JonathanCMitchell/mobilenet_v2_keras/releases/download/v1.1/mobilenet_v2_weights_tf_dim_ordering_tf_kernels_1.0_224_no_top.h5\n",
            "9412608/9406464 [==============================] - 1s 0us/step\n"
          ],
          "name": "stdout"
        }
      ]
    },
    {
      "cell_type": "markdown",
      "metadata": {
        "id": "qqVrAgO9aeig",
        "colab_type": "text"
      },
      "source": [
        "## Prepare MobileNetV2 model\n",
        "\n",
        "- Include a layer that converts to 1D\n",
        "- Define it as a model\n",
        "- Freeze all parameters (make it not trainable), so that it only serves as a feature extractor."
      ]
    },
    {
      "cell_type": "code",
      "metadata": {
        "id": "TrQ_1Z6Taj23",
        "colab_type": "code",
        "outputId": "83fa6da8-94ad-4870-a28a-05d3ad11ca3f",
        "colab": {
          "base_uri": "https://localhost:8080/",
          "height": 1000
        }
      },
      "source": [
        "out = mnetv2.output\n",
        "out = GlobalAveragePooling2D()(out)\n",
        "\n",
        "mnetv2_model = Model(mnetv2.input, out)\n",
        "mnetv2_model.trainable = True #False\n",
        "\n",
        "for layer in mnetv2_model.layers:\n",
        "    layer.trainable = True #False\n",
        "\n",
        "mnetv2_model.summary()"
      ],
      "execution_count": 0,
      "outputs": [
        {
          "output_type": "stream",
          "text": [
            "Model: \"model\"\n",
            "__________________________________________________________________________________________________\n",
            "Layer (type)                    Output Shape         Param #     Connected to                     \n",
            "==================================================================================================\n",
            "input_1 (InputLayer)            [(None, 48, 48, 3)]  0                                            \n",
            "__________________________________________________________________________________________________\n",
            "Conv1_pad (ZeroPadding2D)       (None, 49, 49, 3)    0           input_1[0][0]                    \n",
            "__________________________________________________________________________________________________\n",
            "Conv1 (Conv2D)                  (None, 24, 24, 32)   864         Conv1_pad[0][0]                  \n",
            "__________________________________________________________________________________________________\n",
            "bn_Conv1 (BatchNormalization)   (None, 24, 24, 32)   128         Conv1[0][0]                      \n",
            "__________________________________________________________________________________________________\n",
            "Conv1_relu (ReLU)               (None, 24, 24, 32)   0           bn_Conv1[0][0]                   \n",
            "__________________________________________________________________________________________________\n",
            "expanded_conv_depthwise (Depthw (None, 24, 24, 32)   288         Conv1_relu[0][0]                 \n",
            "__________________________________________________________________________________________________\n",
            "expanded_conv_depthwise_BN (Bat (None, 24, 24, 32)   128         expanded_conv_depthwise[0][0]    \n",
            "__________________________________________________________________________________________________\n",
            "expanded_conv_depthwise_relu (R (None, 24, 24, 32)   0           expanded_conv_depthwise_BN[0][0] \n",
            "__________________________________________________________________________________________________\n",
            "expanded_conv_project (Conv2D)  (None, 24, 24, 16)   512         expanded_conv_depthwise_relu[0][0\n",
            "__________________________________________________________________________________________________\n",
            "expanded_conv_project_BN (Batch (None, 24, 24, 16)   64          expanded_conv_project[0][0]      \n",
            "__________________________________________________________________________________________________\n",
            "block_1_expand (Conv2D)         (None, 24, 24, 96)   1536        expanded_conv_project_BN[0][0]   \n",
            "__________________________________________________________________________________________________\n",
            "block_1_expand_BN (BatchNormali (None, 24, 24, 96)   384         block_1_expand[0][0]             \n",
            "__________________________________________________________________________________________________\n",
            "block_1_expand_relu (ReLU)      (None, 24, 24, 96)   0           block_1_expand_BN[0][0]          \n",
            "__________________________________________________________________________________________________\n",
            "block_1_pad (ZeroPadding2D)     (None, 25, 25, 96)   0           block_1_expand_relu[0][0]        \n",
            "__________________________________________________________________________________________________\n",
            "block_1_depthwise (DepthwiseCon (None, 12, 12, 96)   864         block_1_pad[0][0]                \n",
            "__________________________________________________________________________________________________\n",
            "block_1_depthwise_BN (BatchNorm (None, 12, 12, 96)   384         block_1_depthwise[0][0]          \n",
            "__________________________________________________________________________________________________\n",
            "block_1_depthwise_relu (ReLU)   (None, 12, 12, 96)   0           block_1_depthwise_BN[0][0]       \n",
            "__________________________________________________________________________________________________\n",
            "block_1_project (Conv2D)        (None, 12, 12, 24)   2304        block_1_depthwise_relu[0][0]     \n",
            "__________________________________________________________________________________________________\n",
            "block_1_project_BN (BatchNormal (None, 12, 12, 24)   96          block_1_project[0][0]            \n",
            "__________________________________________________________________________________________________\n",
            "block_2_expand (Conv2D)         (None, 12, 12, 144)  3456        block_1_project_BN[0][0]         \n",
            "__________________________________________________________________________________________________\n",
            "block_2_expand_BN (BatchNormali (None, 12, 12, 144)  576         block_2_expand[0][0]             \n",
            "__________________________________________________________________________________________________\n",
            "block_2_expand_relu (ReLU)      (None, 12, 12, 144)  0           block_2_expand_BN[0][0]          \n",
            "__________________________________________________________________________________________________\n",
            "block_2_depthwise (DepthwiseCon (None, 12, 12, 144)  1296        block_2_expand_relu[0][0]        \n",
            "__________________________________________________________________________________________________\n",
            "block_2_depthwise_BN (BatchNorm (None, 12, 12, 144)  576         block_2_depthwise[0][0]          \n",
            "__________________________________________________________________________________________________\n",
            "block_2_depthwise_relu (ReLU)   (None, 12, 12, 144)  0           block_2_depthwise_BN[0][0]       \n",
            "__________________________________________________________________________________________________\n",
            "block_2_project (Conv2D)        (None, 12, 12, 24)   3456        block_2_depthwise_relu[0][0]     \n",
            "__________________________________________________________________________________________________\n",
            "block_2_project_BN (BatchNormal (None, 12, 12, 24)   96          block_2_project[0][0]            \n",
            "__________________________________________________________________________________________________\n",
            "block_2_add (Add)               (None, 12, 12, 24)   0           block_1_project_BN[0][0]         \n",
            "                                                                 block_2_project_BN[0][0]         \n",
            "__________________________________________________________________________________________________\n",
            "block_3_expand (Conv2D)         (None, 12, 12, 144)  3456        block_2_add[0][0]                \n",
            "__________________________________________________________________________________________________\n",
            "block_3_expand_BN (BatchNormali (None, 12, 12, 144)  576         block_3_expand[0][0]             \n",
            "__________________________________________________________________________________________________\n",
            "block_3_expand_relu (ReLU)      (None, 12, 12, 144)  0           block_3_expand_BN[0][0]          \n",
            "__________________________________________________________________________________________________\n",
            "block_3_pad (ZeroPadding2D)     (None, 13, 13, 144)  0           block_3_expand_relu[0][0]        \n",
            "__________________________________________________________________________________________________\n",
            "block_3_depthwise (DepthwiseCon (None, 6, 6, 144)    1296        block_3_pad[0][0]                \n",
            "__________________________________________________________________________________________________\n",
            "block_3_depthwise_BN (BatchNorm (None, 6, 6, 144)    576         block_3_depthwise[0][0]          \n",
            "__________________________________________________________________________________________________\n",
            "block_3_depthwise_relu (ReLU)   (None, 6, 6, 144)    0           block_3_depthwise_BN[0][0]       \n",
            "__________________________________________________________________________________________________\n",
            "block_3_project (Conv2D)        (None, 6, 6, 32)     4608        block_3_depthwise_relu[0][0]     \n",
            "__________________________________________________________________________________________________\n",
            "block_3_project_BN (BatchNormal (None, 6, 6, 32)     128         block_3_project[0][0]            \n",
            "__________________________________________________________________________________________________\n",
            "block_4_expand (Conv2D)         (None, 6, 6, 192)    6144        block_3_project_BN[0][0]         \n",
            "__________________________________________________________________________________________________\n",
            "block_4_expand_BN (BatchNormali (None, 6, 6, 192)    768         block_4_expand[0][0]             \n",
            "__________________________________________________________________________________________________\n",
            "block_4_expand_relu (ReLU)      (None, 6, 6, 192)    0           block_4_expand_BN[0][0]          \n",
            "__________________________________________________________________________________________________\n",
            "block_4_depthwise (DepthwiseCon (None, 6, 6, 192)    1728        block_4_expand_relu[0][0]        \n",
            "__________________________________________________________________________________________________\n",
            "block_4_depthwise_BN (BatchNorm (None, 6, 6, 192)    768         block_4_depthwise[0][0]          \n",
            "__________________________________________________________________________________________________\n",
            "block_4_depthwise_relu (ReLU)   (None, 6, 6, 192)    0           block_4_depthwise_BN[0][0]       \n",
            "__________________________________________________________________________________________________\n",
            "block_4_project (Conv2D)        (None, 6, 6, 32)     6144        block_4_depthwise_relu[0][0]     \n",
            "__________________________________________________________________________________________________\n",
            "block_4_project_BN (BatchNormal (None, 6, 6, 32)     128         block_4_project[0][0]            \n",
            "__________________________________________________________________________________________________\n",
            "block_4_add (Add)               (None, 6, 6, 32)     0           block_3_project_BN[0][0]         \n",
            "                                                                 block_4_project_BN[0][0]         \n",
            "__________________________________________________________________________________________________\n",
            "block_5_expand (Conv2D)         (None, 6, 6, 192)    6144        block_4_add[0][0]                \n",
            "__________________________________________________________________________________________________\n",
            "block_5_expand_BN (BatchNormali (None, 6, 6, 192)    768         block_5_expand[0][0]             \n",
            "__________________________________________________________________________________________________\n",
            "block_5_expand_relu (ReLU)      (None, 6, 6, 192)    0           block_5_expand_BN[0][0]          \n",
            "__________________________________________________________________________________________________\n",
            "block_5_depthwise (DepthwiseCon (None, 6, 6, 192)    1728        block_5_expand_relu[0][0]        \n",
            "__________________________________________________________________________________________________\n",
            "block_5_depthwise_BN (BatchNorm (None, 6, 6, 192)    768         block_5_depthwise[0][0]          \n",
            "__________________________________________________________________________________________________\n",
            "block_5_depthwise_relu (ReLU)   (None, 6, 6, 192)    0           block_5_depthwise_BN[0][0]       \n",
            "__________________________________________________________________________________________________\n",
            "block_5_project (Conv2D)        (None, 6, 6, 32)     6144        block_5_depthwise_relu[0][0]     \n",
            "__________________________________________________________________________________________________\n",
            "block_5_project_BN (BatchNormal (None, 6, 6, 32)     128         block_5_project[0][0]            \n",
            "__________________________________________________________________________________________________\n",
            "block_5_add (Add)               (None, 6, 6, 32)     0           block_4_add[0][0]                \n",
            "                                                                 block_5_project_BN[0][0]         \n",
            "__________________________________________________________________________________________________\n",
            "block_6_expand (Conv2D)         (None, 6, 6, 192)    6144        block_5_add[0][0]                \n",
            "__________________________________________________________________________________________________\n",
            "block_6_expand_BN (BatchNormali (None, 6, 6, 192)    768         block_6_expand[0][0]             \n",
            "__________________________________________________________________________________________________\n",
            "block_6_expand_relu (ReLU)      (None, 6, 6, 192)    0           block_6_expand_BN[0][0]          \n",
            "__________________________________________________________________________________________________\n",
            "block_6_pad (ZeroPadding2D)     (None, 7, 7, 192)    0           block_6_expand_relu[0][0]        \n",
            "__________________________________________________________________________________________________\n",
            "block_6_depthwise (DepthwiseCon (None, 3, 3, 192)    1728        block_6_pad[0][0]                \n",
            "__________________________________________________________________________________________________\n",
            "block_6_depthwise_BN (BatchNorm (None, 3, 3, 192)    768         block_6_depthwise[0][0]          \n",
            "__________________________________________________________________________________________________\n",
            "block_6_depthwise_relu (ReLU)   (None, 3, 3, 192)    0           block_6_depthwise_BN[0][0]       \n",
            "__________________________________________________________________________________________________\n",
            "block_6_project (Conv2D)        (None, 3, 3, 64)     12288       block_6_depthwise_relu[0][0]     \n",
            "__________________________________________________________________________________________________\n",
            "block_6_project_BN (BatchNormal (None, 3, 3, 64)     256         block_6_project[0][0]            \n",
            "__________________________________________________________________________________________________\n",
            "block_7_expand (Conv2D)         (None, 3, 3, 384)    24576       block_6_project_BN[0][0]         \n",
            "__________________________________________________________________________________________________\n",
            "block_7_expand_BN (BatchNormali (None, 3, 3, 384)    1536        block_7_expand[0][0]             \n",
            "__________________________________________________________________________________________________\n",
            "block_7_expand_relu (ReLU)      (None, 3, 3, 384)    0           block_7_expand_BN[0][0]          \n",
            "__________________________________________________________________________________________________\n",
            "block_7_depthwise (DepthwiseCon (None, 3, 3, 384)    3456        block_7_expand_relu[0][0]        \n",
            "__________________________________________________________________________________________________\n",
            "block_7_depthwise_BN (BatchNorm (None, 3, 3, 384)    1536        block_7_depthwise[0][0]          \n",
            "__________________________________________________________________________________________________\n",
            "block_7_depthwise_relu (ReLU)   (None, 3, 3, 384)    0           block_7_depthwise_BN[0][0]       \n",
            "__________________________________________________________________________________________________\n",
            "block_7_project (Conv2D)        (None, 3, 3, 64)     24576       block_7_depthwise_relu[0][0]     \n",
            "__________________________________________________________________________________________________\n",
            "block_7_project_BN (BatchNormal (None, 3, 3, 64)     256         block_7_project[0][0]            \n",
            "__________________________________________________________________________________________________\n",
            "block_7_add (Add)               (None, 3, 3, 64)     0           block_6_project_BN[0][0]         \n",
            "                                                                 block_7_project_BN[0][0]         \n",
            "__________________________________________________________________________________________________\n",
            "block_8_expand (Conv2D)         (None, 3, 3, 384)    24576       block_7_add[0][0]                \n",
            "__________________________________________________________________________________________________\n",
            "block_8_expand_BN (BatchNormali (None, 3, 3, 384)    1536        block_8_expand[0][0]             \n",
            "__________________________________________________________________________________________________\n",
            "block_8_expand_relu (ReLU)      (None, 3, 3, 384)    0           block_8_expand_BN[0][0]          \n",
            "__________________________________________________________________________________________________\n",
            "block_8_depthwise (DepthwiseCon (None, 3, 3, 384)    3456        block_8_expand_relu[0][0]        \n",
            "__________________________________________________________________________________________________\n",
            "block_8_depthwise_BN (BatchNorm (None, 3, 3, 384)    1536        block_8_depthwise[0][0]          \n",
            "__________________________________________________________________________________________________\n",
            "block_8_depthwise_relu (ReLU)   (None, 3, 3, 384)    0           block_8_depthwise_BN[0][0]       \n",
            "__________________________________________________________________________________________________\n",
            "block_8_project (Conv2D)        (None, 3, 3, 64)     24576       block_8_depthwise_relu[0][0]     \n",
            "__________________________________________________________________________________________________\n",
            "block_8_project_BN (BatchNormal (None, 3, 3, 64)     256         block_8_project[0][0]            \n",
            "__________________________________________________________________________________________________\n",
            "block_8_add (Add)               (None, 3, 3, 64)     0           block_7_add[0][0]                \n",
            "                                                                 block_8_project_BN[0][0]         \n",
            "__________________________________________________________________________________________________\n",
            "block_9_expand (Conv2D)         (None, 3, 3, 384)    24576       block_8_add[0][0]                \n",
            "__________________________________________________________________________________________________\n",
            "block_9_expand_BN (BatchNormali (None, 3, 3, 384)    1536        block_9_expand[0][0]             \n",
            "__________________________________________________________________________________________________\n",
            "block_9_expand_relu (ReLU)      (None, 3, 3, 384)    0           block_9_expand_BN[0][0]          \n",
            "__________________________________________________________________________________________________\n",
            "block_9_depthwise (DepthwiseCon (None, 3, 3, 384)    3456        block_9_expand_relu[0][0]        \n",
            "__________________________________________________________________________________________________\n",
            "block_9_depthwise_BN (BatchNorm (None, 3, 3, 384)    1536        block_9_depthwise[0][0]          \n",
            "__________________________________________________________________________________________________\n",
            "block_9_depthwise_relu (ReLU)   (None, 3, 3, 384)    0           block_9_depthwise_BN[0][0]       \n",
            "__________________________________________________________________________________________________\n",
            "block_9_project (Conv2D)        (None, 3, 3, 64)     24576       block_9_depthwise_relu[0][0]     \n",
            "__________________________________________________________________________________________________\n",
            "block_9_project_BN (BatchNormal (None, 3, 3, 64)     256         block_9_project[0][0]            \n",
            "__________________________________________________________________________________________________\n",
            "block_9_add (Add)               (None, 3, 3, 64)     0           block_8_add[0][0]                \n",
            "                                                                 block_9_project_BN[0][0]         \n",
            "__________________________________________________________________________________________________\n",
            "block_10_expand (Conv2D)        (None, 3, 3, 384)    24576       block_9_add[0][0]                \n",
            "__________________________________________________________________________________________________\n",
            "block_10_expand_BN (BatchNormal (None, 3, 3, 384)    1536        block_10_expand[0][0]            \n",
            "__________________________________________________________________________________________________\n",
            "block_10_expand_relu (ReLU)     (None, 3, 3, 384)    0           block_10_expand_BN[0][0]         \n",
            "__________________________________________________________________________________________________\n",
            "block_10_depthwise (DepthwiseCo (None, 3, 3, 384)    3456        block_10_expand_relu[0][0]       \n",
            "__________________________________________________________________________________________________\n",
            "block_10_depthwise_BN (BatchNor (None, 3, 3, 384)    1536        block_10_depthwise[0][0]         \n",
            "__________________________________________________________________________________________________\n",
            "block_10_depthwise_relu (ReLU)  (None, 3, 3, 384)    0           block_10_depthwise_BN[0][0]      \n",
            "__________________________________________________________________________________________________\n",
            "block_10_project (Conv2D)       (None, 3, 3, 96)     36864       block_10_depthwise_relu[0][0]    \n",
            "__________________________________________________________________________________________________\n",
            "block_10_project_BN (BatchNorma (None, 3, 3, 96)     384         block_10_project[0][0]           \n",
            "__________________________________________________________________________________________________\n",
            "block_11_expand (Conv2D)        (None, 3, 3, 576)    55296       block_10_project_BN[0][0]        \n",
            "__________________________________________________________________________________________________\n",
            "block_11_expand_BN (BatchNormal (None, 3, 3, 576)    2304        block_11_expand[0][0]            \n",
            "__________________________________________________________________________________________________\n",
            "block_11_expand_relu (ReLU)     (None, 3, 3, 576)    0           block_11_expand_BN[0][0]         \n",
            "__________________________________________________________________________________________________\n",
            "block_11_depthwise (DepthwiseCo (None, 3, 3, 576)    5184        block_11_expand_relu[0][0]       \n",
            "__________________________________________________________________________________________________\n",
            "block_11_depthwise_BN (BatchNor (None, 3, 3, 576)    2304        block_11_depthwise[0][0]         \n",
            "__________________________________________________________________________________________________\n",
            "block_11_depthwise_relu (ReLU)  (None, 3, 3, 576)    0           block_11_depthwise_BN[0][0]      \n",
            "__________________________________________________________________________________________________\n",
            "block_11_project (Conv2D)       (None, 3, 3, 96)     55296       block_11_depthwise_relu[0][0]    \n",
            "__________________________________________________________________________________________________\n",
            "block_11_project_BN (BatchNorma (None, 3, 3, 96)     384         block_11_project[0][0]           \n",
            "__________________________________________________________________________________________________\n",
            "block_11_add (Add)              (None, 3, 3, 96)     0           block_10_project_BN[0][0]        \n",
            "                                                                 block_11_project_BN[0][0]        \n",
            "__________________________________________________________________________________________________\n",
            "block_12_expand (Conv2D)        (None, 3, 3, 576)    55296       block_11_add[0][0]               \n",
            "__________________________________________________________________________________________________\n",
            "block_12_expand_BN (BatchNormal (None, 3, 3, 576)    2304        block_12_expand[0][0]            \n",
            "__________________________________________________________________________________________________\n",
            "block_12_expand_relu (ReLU)     (None, 3, 3, 576)    0           block_12_expand_BN[0][0]         \n",
            "__________________________________________________________________________________________________\n",
            "block_12_depthwise (DepthwiseCo (None, 3, 3, 576)    5184        block_12_expand_relu[0][0]       \n",
            "__________________________________________________________________________________________________\n",
            "block_12_depthwise_BN (BatchNor (None, 3, 3, 576)    2304        block_12_depthwise[0][0]         \n",
            "__________________________________________________________________________________________________\n",
            "block_12_depthwise_relu (ReLU)  (None, 3, 3, 576)    0           block_12_depthwise_BN[0][0]      \n",
            "__________________________________________________________________________________________________\n",
            "block_12_project (Conv2D)       (None, 3, 3, 96)     55296       block_12_depthwise_relu[0][0]    \n",
            "__________________________________________________________________________________________________\n",
            "block_12_project_BN (BatchNorma (None, 3, 3, 96)     384         block_12_project[0][0]           \n",
            "__________________________________________________________________________________________________\n",
            "block_12_add (Add)              (None, 3, 3, 96)     0           block_11_add[0][0]               \n",
            "                                                                 block_12_project_BN[0][0]        \n",
            "__________________________________________________________________________________________________\n",
            "block_13_expand (Conv2D)        (None, 3, 3, 576)    55296       block_12_add[0][0]               \n",
            "__________________________________________________________________________________________________\n",
            "block_13_expand_BN (BatchNormal (None, 3, 3, 576)    2304        block_13_expand[0][0]            \n",
            "__________________________________________________________________________________________________\n",
            "block_13_expand_relu (ReLU)     (None, 3, 3, 576)    0           block_13_expand_BN[0][0]         \n",
            "__________________________________________________________________________________________________\n",
            "block_13_pad (ZeroPadding2D)    (None, 5, 5, 576)    0           block_13_expand_relu[0][0]       \n",
            "__________________________________________________________________________________________________\n",
            "block_13_depthwise (DepthwiseCo (None, 2, 2, 576)    5184        block_13_pad[0][0]               \n",
            "__________________________________________________________________________________________________\n",
            "block_13_depthwise_BN (BatchNor (None, 2, 2, 576)    2304        block_13_depthwise[0][0]         \n",
            "__________________________________________________________________________________________________\n",
            "block_13_depthwise_relu (ReLU)  (None, 2, 2, 576)    0           block_13_depthwise_BN[0][0]      \n",
            "__________________________________________________________________________________________________\n",
            "block_13_project (Conv2D)       (None, 2, 2, 160)    92160       block_13_depthwise_relu[0][0]    \n",
            "__________________________________________________________________________________________________\n",
            "block_13_project_BN (BatchNorma (None, 2, 2, 160)    640         block_13_project[0][0]           \n",
            "__________________________________________________________________________________________________\n",
            "block_14_expand (Conv2D)        (None, 2, 2, 960)    153600      block_13_project_BN[0][0]        \n",
            "__________________________________________________________________________________________________\n",
            "block_14_expand_BN (BatchNormal (None, 2, 2, 960)    3840        block_14_expand[0][0]            \n",
            "__________________________________________________________________________________________________\n",
            "block_14_expand_relu (ReLU)     (None, 2, 2, 960)    0           block_14_expand_BN[0][0]         \n",
            "__________________________________________________________________________________________________\n",
            "block_14_depthwise (DepthwiseCo (None, 2, 2, 960)    8640        block_14_expand_relu[0][0]       \n",
            "__________________________________________________________________________________________________\n",
            "block_14_depthwise_BN (BatchNor (None, 2, 2, 960)    3840        block_14_depthwise[0][0]         \n",
            "__________________________________________________________________________________________________\n",
            "block_14_depthwise_relu (ReLU)  (None, 2, 2, 960)    0           block_14_depthwise_BN[0][0]      \n",
            "__________________________________________________________________________________________________\n",
            "block_14_project (Conv2D)       (None, 2, 2, 160)    153600      block_14_depthwise_relu[0][0]    \n",
            "__________________________________________________________________________________________________\n",
            "block_14_project_BN (BatchNorma (None, 2, 2, 160)    640         block_14_project[0][0]           \n",
            "__________________________________________________________________________________________________\n",
            "block_14_add (Add)              (None, 2, 2, 160)    0           block_13_project_BN[0][0]        \n",
            "                                                                 block_14_project_BN[0][0]        \n",
            "__________________________________________________________________________________________________\n",
            "block_15_expand (Conv2D)        (None, 2, 2, 960)    153600      block_14_add[0][0]               \n",
            "__________________________________________________________________________________________________\n",
            "block_15_expand_BN (BatchNormal (None, 2, 2, 960)    3840        block_15_expand[0][0]            \n",
            "__________________________________________________________________________________________________\n",
            "block_15_expand_relu (ReLU)     (None, 2, 2, 960)    0           block_15_expand_BN[0][0]         \n",
            "__________________________________________________________________________________________________\n",
            "block_15_depthwise (DepthwiseCo (None, 2, 2, 960)    8640        block_15_expand_relu[0][0]       \n",
            "__________________________________________________________________________________________________\n",
            "block_15_depthwise_BN (BatchNor (None, 2, 2, 960)    3840        block_15_depthwise[0][0]         \n",
            "__________________________________________________________________________________________________\n",
            "block_15_depthwise_relu (ReLU)  (None, 2, 2, 960)    0           block_15_depthwise_BN[0][0]      \n",
            "__________________________________________________________________________________________________\n",
            "block_15_project (Conv2D)       (None, 2, 2, 160)    153600      block_15_depthwise_relu[0][0]    \n",
            "__________________________________________________________________________________________________\n",
            "block_15_project_BN (BatchNorma (None, 2, 2, 160)    640         block_15_project[0][0]           \n",
            "__________________________________________________________________________________________________\n",
            "block_15_add (Add)              (None, 2, 2, 160)    0           block_14_add[0][0]               \n",
            "                                                                 block_15_project_BN[0][0]        \n",
            "__________________________________________________________________________________________________\n",
            "block_16_expand (Conv2D)        (None, 2, 2, 960)    153600      block_15_add[0][0]               \n",
            "__________________________________________________________________________________________________\n",
            "block_16_expand_BN (BatchNormal (None, 2, 2, 960)    3840        block_16_expand[0][0]            \n",
            "__________________________________________________________________________________________________\n",
            "block_16_expand_relu (ReLU)     (None, 2, 2, 960)    0           block_16_expand_BN[0][0]         \n",
            "__________________________________________________________________________________________________\n",
            "block_16_depthwise (DepthwiseCo (None, 2, 2, 960)    8640        block_16_expand_relu[0][0]       \n",
            "__________________________________________________________________________________________________\n",
            "block_16_depthwise_BN (BatchNor (None, 2, 2, 960)    3840        block_16_depthwise[0][0]         \n",
            "__________________________________________________________________________________________________\n",
            "block_16_depthwise_relu (ReLU)  (None, 2, 2, 960)    0           block_16_depthwise_BN[0][0]      \n",
            "__________________________________________________________________________________________________\n",
            "block_16_project (Conv2D)       (None, 2, 2, 320)    307200      block_16_depthwise_relu[0][0]    \n",
            "__________________________________________________________________________________________________\n",
            "block_16_project_BN (BatchNorma (None, 2, 2, 320)    1280        block_16_project[0][0]           \n",
            "__________________________________________________________________________________________________\n",
            "Conv_1 (Conv2D)                 (None, 2, 2, 1280)   409600      block_16_project_BN[0][0]        \n",
            "__________________________________________________________________________________________________\n",
            "Conv_1_bn (BatchNormalization)  (None, 2, 2, 1280)   5120        Conv_1[0][0]                     \n",
            "__________________________________________________________________________________________________\n",
            "out_relu (ReLU)                 (None, 2, 2, 1280)   0           Conv_1_bn[0][0]                  \n",
            "__________________________________________________________________________________________________\n",
            "global_average_pooling2d (Globa (None, 1280)         0           out_relu[0][0]                   \n",
            "==================================================================================================\n",
            "Total params: 2,257,984\n",
            "Trainable params: 2,223,872\n",
            "Non-trainable params: 34,112\n",
            "__________________________________________________________________________________________________\n"
          ],
          "name": "stdout"
        }
      ]
    },
    {
      "cell_type": "code",
      "metadata": {
        "id": "pofvBuCGatvj",
        "colab_type": "code",
        "outputId": "d89e2a8d-6fd6-41bd-e77a-09addb95f881",
        "colab": {
          "base_uri": "https://localhost:8080/",
          "height": 289
        }
      },
      "source": [
        "model = Sequential([\n",
        "    \n",
        "    mnetv2_model,  # for feature extraction with transfer learning\n",
        "\n",
        "    Dense(512, activation='relu', input_dim=mnetv2_model.output_shape[1]),\n",
        "    Dense(512, activation='relu'),\n",
        "    Dense(NUM_CLASSES, activation='softmax')\n",
        "])\n",
        "\n",
        "model.summary()"
      ],
      "execution_count": 0,
      "outputs": [
        {
          "output_type": "stream",
          "text": [
            "Model: \"sequential_1\"\n",
            "_________________________________________________________________\n",
            "Layer (type)                 Output Shape              Param #   \n",
            "=================================================================\n",
            "model (Model)                (None, 1280)              2257984   \n",
            "_________________________________________________________________\n",
            "dense_2 (Dense)              (None, 512)               655872    \n",
            "_________________________________________________________________\n",
            "dense_3 (Dense)              (None, 512)               262656    \n",
            "_________________________________________________________________\n",
            "dense_4 (Dense)              (None, 7)                 3591      \n",
            "=================================================================\n",
            "Total params: 3,180,103\n",
            "Trainable params: 3,145,991\n",
            "Non-trainable params: 34,112\n",
            "_________________________________________________________________\n"
          ],
          "name": "stdout"
        }
      ]
    },
    {
      "cell_type": "code",
      "metadata": {
        "id": "pmTwp4w4azB8",
        "colab_type": "code",
        "outputId": "45284f87-aff0-4a95-b395-cbf5442d1443",
        "colab": {
          "base_uri": "https://localhost:8080/",
          "height": 1000
        }
      },
      "source": [
        "model, history = train_model(model, name=\"transfer1\", \n",
        "                             augmentation=True, rgb=True)"
      ],
      "execution_count": 0,
      "outputs": [
        {
          "output_type": "stream",
          "text": [
            "Epoch 1/100\n",
            "WARNING:tensorflow:From /tensorflow-2.0.0-rc2/python3.6/tensorflow_core/python/ops/math_grad.py:1394: where (from tensorflow.python.ops.array_ops) is deprecated and will be removed in a future version.\n",
            "Instructions for updating:\n",
            "Use tf.where in 2.0, which has the same broadcast rule as np.where\n",
            "717/717 [==============================] - 248s 346ms/step - loss: 1.6952 - accuracy: 0.3306 - val_loss: 2.1194 - val_accuracy: 0.2936\n",
            "Epoch 2/100\n",
            "717/717 [==============================] - 251s 350ms/step - loss: 1.5153 - accuracy: 0.4153 - val_loss: 2.9140 - val_accuracy: 0.2683\n",
            "Epoch 3/100\n",
            "717/717 [==============================] - 250s 349ms/step - loss: 1.4635 - accuracy: 0.4327 - val_loss: 2.5612 - val_accuracy: 0.3251\n",
            "Epoch 4/100\n",
            "717/717 [==============================] - 249s 347ms/step - loss: 1.3810 - accuracy: 0.4725 - val_loss: 3.2028 - val_accuracy: 0.1575\n",
            "Epoch 5/100\n",
            "717/717 [==============================] - 256s 356ms/step - loss: 1.4209 - accuracy: 0.4555 - val_loss: 1.9388 - val_accuracy: 0.1872\n",
            "Epoch 6/100\n",
            "717/717 [==============================] - 256s 356ms/step - loss: 1.4436 - accuracy: 0.4459 - val_loss: 2.2656 - val_accuracy: 0.1796\n",
            "Epoch 7/100\n",
            "717/717 [==============================] - 253s 353ms/step - loss: 1.3891 - accuracy: 0.4632 - val_loss: 2.2499 - val_accuracy: 0.4274\n",
            "Epoch 8/100\n",
            "717/717 [==============================] - 255s 355ms/step - loss: 1.3741 - accuracy: 0.4740 - val_loss: 2.0859 - val_accuracy: 0.4387\n",
            "Epoch 9/100\n",
            "717/717 [==============================] - 252s 352ms/step - loss: 1.3947 - accuracy: 0.4628 - val_loss: 1.5756 - val_accuracy: 0.4349\n",
            "Epoch 10/100\n",
            "717/717 [==============================] - 261s 364ms/step - loss: 1.3456 - accuracy: 0.4814 - val_loss: 1.5982 - val_accuracy: 0.4469\n",
            "Epoch 11/100\n",
            "717/717 [==============================] - 263s 367ms/step - loss: 1.3294 - accuracy: 0.4922 - val_loss: 1.7057 - val_accuracy: 0.3879\n",
            "Epoch 12/100\n",
            "717/717 [==============================] - 250s 349ms/step - loss: 1.3819 - accuracy: 0.4639 - val_loss: 1.6863 - val_accuracy: 0.4468\n",
            "Epoch 13/100\n",
            "717/717 [==============================] - 253s 353ms/step - loss: 1.3474 - accuracy: 0.4861 - val_loss: 1.7048 - val_accuracy: 0.4584\n",
            "Epoch 14/100\n",
            "717/717 [==============================] - 249s 347ms/step - loss: 1.2740 - accuracy: 0.5158 - val_loss: 1.4242 - val_accuracy: 0.4927\n",
            "Epoch 15/100\n",
            "717/717 [==============================] - 250s 349ms/step - loss: 1.2725 - accuracy: 0.5099 - val_loss: 1.3616 - val_accuracy: 0.5124\n",
            "Epoch 16/100\n",
            "717/717 [==============================] - 250s 348ms/step - loss: 1.3581 - accuracy: 0.4775 - val_loss: 1.9094 - val_accuracy: 0.2640\n",
            "Epoch 17/100\n",
            "717/717 [==============================] - 250s 348ms/step - loss: 1.3330 - accuracy: 0.4872 - val_loss: 1.4086 - val_accuracy: 0.4689\n",
            "Epoch 18/100\n",
            "717/717 [==============================] - 248s 347ms/step - loss: 1.2717 - accuracy: 0.5155 - val_loss: 1.3175 - val_accuracy: 0.5122\n",
            "Epoch 19/100\n",
            "717/717 [==============================] - 246s 343ms/step - loss: 1.2915 - accuracy: 0.5070 - val_loss: 1.8644 - val_accuracy: 0.1411\n",
            "Epoch 20/100\n",
            "717/717 [==============================] - 244s 340ms/step - loss: 1.2692 - accuracy: 0.5124 - val_loss: 1.3643 - val_accuracy: 0.5024\n",
            "Epoch 21/100\n",
            "717/717 [==============================] - 244s 340ms/step - loss: 1.2525 - accuracy: 0.5210 - val_loss: 1.3889 - val_accuracy: 0.4818\n",
            "Epoch 22/100\n",
            "717/717 [==============================] - 233s 326ms/step - loss: 1.2266 - accuracy: 0.5348 - val_loss: 1.2887 - val_accuracy: 0.5045\n",
            "Epoch 23/100\n",
            "717/717 [==============================] - 231s 323ms/step - loss: 1.3717 - accuracy: 0.4704 - val_loss: 1.4925 - val_accuracy: 0.4492\n",
            "Epoch 24/100\n",
            "717/717 [==============================] - 232s 324ms/step - loss: 1.2880 - accuracy: 0.5055 - val_loss: 1.5016 - val_accuracy: 0.4361\n",
            "Epoch 25/100\n",
            "717/717 [==============================] - 247s 344ms/step - loss: 1.3093 - accuracy: 0.4982 - val_loss: 1.5833 - val_accuracy: 0.3605\n",
            "Epoch 26/100\n",
            "717/717 [==============================] - 248s 346ms/step - loss: 1.3187 - accuracy: 0.4940 - val_loss: 1.3572 - val_accuracy: 0.4681\n",
            "Epoch 27/100\n",
            "717/717 [==============================] - 245s 342ms/step - loss: 1.2661 - accuracy: 0.5150 - val_loss: 1.3231 - val_accuracy: 0.4993\n",
            "Epoch 28/100\n",
            "717/717 [==============================] - 245s 342ms/step - loss: 1.2491 - accuracy: 0.5197 - val_loss: 1.3188 - val_accuracy: 0.5087\n",
            "Epoch 29/100\n",
            "717/717 [==============================] - 247s 344ms/step - loss: 1.2125 - accuracy: 0.5375 - val_loss: 1.2362 - val_accuracy: 0.5389\n",
            "Epoch 30/100\n",
            "717/717 [==============================] - 249s 347ms/step - loss: 1.2004 - accuracy: 0.5377 - val_loss: 1.1965 - val_accuracy: 0.5564\n",
            "Epoch 31/100\n",
            "717/717 [==============================] - 249s 348ms/step - loss: 1.1889 - accuracy: 0.5447 - val_loss: 1.3097 - val_accuracy: 0.5009\n",
            "Epoch 32/100\n",
            "717/717 [==============================] - 250s 348ms/step - loss: 1.2120 - accuracy: 0.5354 - val_loss: 1.8502 - val_accuracy: 0.3914\n",
            "Epoch 33/100\n",
            "717/717 [==============================] - 250s 349ms/step - loss: 1.2037 - accuracy: 0.5424 - val_loss: 1.2774 - val_accuracy: 0.5304\n",
            "Epoch 34/100\n",
            "717/717 [==============================] - 242s 338ms/step - loss: 1.2240 - accuracy: 0.5388 - val_loss: 1.3926 - val_accuracy: 0.4817\n",
            "Epoch 35/100\n",
            "717/717 [==============================] - 247s 345ms/step - loss: 1.2153 - accuracy: 0.5371 - val_loss: 1.3692 - val_accuracy: 0.4921\n",
            "Epoch 36/100\n",
            "717/717 [==============================] - 249s 347ms/step - loss: 1.2590 - accuracy: 0.5180 - val_loss: 1.5259 - val_accuracy: 0.4183\n",
            "Epoch 37/100\n",
            "717/717 [==============================] - 249s 347ms/step - loss: 1.2562 - accuracy: 0.5214 - val_loss: 1.2197 - val_accuracy: 0.5484\n",
            "Epoch 38/100\n",
            "717/717 [==============================] - 247s 345ms/step - loss: 1.2066 - accuracy: 0.5387 - val_loss: 1.1715 - val_accuracy: 0.5630\n",
            "Epoch 39/100\n",
            "717/717 [==============================] - 252s 351ms/step - loss: 1.1933 - accuracy: 0.5451 - val_loss: 1.1980 - val_accuracy: 0.5459\n",
            "Epoch 40/100\n",
            "717/717 [==============================] - 248s 347ms/step - loss: 1.1846 - accuracy: 0.5490 - val_loss: 1.1403 - val_accuracy: 0.5773\n",
            "Epoch 41/100\n",
            "717/717 [==============================] - 248s 345ms/step - loss: 1.1670 - accuracy: 0.5620 - val_loss: 1.3124 - val_accuracy: 0.4976\n",
            "Epoch 42/100\n",
            "717/717 [==============================] - 250s 348ms/step - loss: 1.2498 - accuracy: 0.5230 - val_loss: 1.3393 - val_accuracy: 0.5120\n",
            "Epoch 43/100\n",
            "717/717 [==============================] - 253s 353ms/step - loss: 1.1919 - accuracy: 0.5474 - val_loss: 1.1799 - val_accuracy: 0.5470\n",
            "Epoch 44/100\n",
            "717/717 [==============================] - 246s 344ms/step - loss: 1.1688 - accuracy: 0.5564 - val_loss: 1.1459 - val_accuracy: 0.5749\n",
            "Epoch 45/100\n",
            "717/717 [==============================] - 246s 343ms/step - loss: 1.2140 - accuracy: 0.5392 - val_loss: 1.2611 - val_accuracy: 0.5297\n",
            "Epoch 46/100\n",
            "717/717 [==============================] - 248s 346ms/step - loss: 1.1784 - accuracy: 0.5530 - val_loss: 1.6020 - val_accuracy: 0.4282\n",
            "Epoch 47/100\n",
            "717/717 [==============================] - 249s 347ms/step - loss: 1.1879 - accuracy: 0.5458 - val_loss: 1.1850 - val_accuracy: 0.5564\n",
            "Epoch 48/100\n",
            "717/717 [==============================] - 251s 350ms/step - loss: 1.1550 - accuracy: 0.5603 - val_loss: 1.1900 - val_accuracy: 0.5519\n"
          ],
          "name": "stdout"
        }
      ]
    },
    {
      "cell_type": "code",
      "metadata": {
        "id": "yViaAEJRa4eb",
        "colab_type": "code",
        "outputId": "af9045b4-5489-4687-ad21-4e9d8486b919",
        "colab": {
          "base_uri": "https://localhost:8080/",
          "height": 590
        }
      },
      "source": [
        "train_eval(history)"
      ],
      "execution_count": 0,
      "outputs": [
        {
          "output_type": "stream",
          "text": [
            "INFO:tensorflow:Assets written to: /content/drive/My Drive/Colab Notebooks/bsc_fer_cnn/models/transfer/assets\n"
          ],
          "name": "stdout"
        },
        {
          "output_type": "display_data",
          "data": {
            "image/png": "[encoded data removed]",
            "text/plain": [
              "<Figure size 432x288 with 1 Axes>"
            ]
          },
          "metadata": {
            "tags": []
          }
        },
        {
          "output_type": "display_data",
          "data": {
            "image/png": "[encoded data removed]",
            "text/plain": [
              "<Figure size 432x288 with 1 Axes>"
            ]
          },
          "metadata": {
            "tags": []
          }
        }
      ]
    },
    {
      "cell_type": "markdown",
      "metadata": {
        "id": "46_sglrhat7M",
        "colab_type": "text"
      },
      "source": [
        "---\n",
        "## Try #2: 3 dense"
      ]
    },
    {
      "cell_type": "code",
      "metadata": {
        "id": "l3Mqt0UnaxaD",
        "colab_type": "code",
        "colab": {}
      },
      "source": [
        "model = Sequential([\n",
        "    \n",
        "    Flatten(input_shape=X.shape[1:]),\n",
        "    Dense(300, activation=\"relu\"),\n",
        "    Dense(100, activation=\"relu\"),\n",
        "    Dense(7, activation=\"softmax\")\n",
        "    \n",
        "])\n",
        "\n",
        "model.summary()"
      ],
      "execution_count": 0,
      "outputs": []
    },
    {
      "cell_type": "code",
      "metadata": {
        "colab_type": "code",
        "id": "6OAzTz-db8bR",
        "colab": {}
      },
      "source": [
        "model, history = train_model(model, name=\"test2_3dense\")"
      ],
      "execution_count": 0,
      "outputs": []
    },
    {
      "cell_type": "markdown",
      "metadata": {
        "id": "D6HHm0KgcYd9",
        "colab_type": "text"
      },
      "source": [
        "## Try #3: 5 conv layers without dropout"
      ]
    },
    {
      "cell_type": "code",
      "metadata": {
        "id": "FNRHet-TcX64",
        "colab_type": "code",
        "colab": {}
      },
      "source": [
        "model = Sequential()\n",
        "\n",
        "model.add(Conv2D(256, (3, 3), input_shape=X.shape[1:], activation=\"relu\"))\n",
        "model.add(Conv2D(256, (3, 3), activation=\"relu\"))\n",
        "model.add(MaxPooling2D(pool_size=(2, 2)))\n",
        "\n",
        "model.add(Conv2D(256, (3, 3), activation=\"relu\"))\n",
        "model.add(Conv2D(256, (3, 3), activation=\"relu\"))\n",
        "model.add(MaxPooling2D(pool_size=(2, 2)))\n",
        "\n",
        "model.add(Conv2D(256, (3, 3), activation=\"relu\"))\n",
        "model.add(Conv2D(256, (3, 3), activation=\"relu\"))\n",
        "model.add(MaxPooling2D(pool_size=(2, 2)))\n",
        "\n",
        "model.add(Flatten())  # this converts our 3D feature maps to 1D feature vectors\n",
        "\n",
        "model.add(Dense(100))\n",
        "\n",
        "model.add(Dense(7, activation=\"softmax\"))  # or sigmoid?\n",
        "\n",
        "model.summary()"
      ],
      "execution_count": 0,
      "outputs": []
    },
    {
      "cell_type": "code",
      "metadata": {
        "id": "pL9DbeWvdMAd",
        "colab_type": "code",
        "colab": {}
      },
      "source": [
        "model, history = train_model(model, name=\"test3_5conv\")"
      ],
      "execution_count": 0,
      "outputs": []
    },
    {
      "cell_type": "markdown",
      "metadata": {
        "id": "sqbBoqWommuU",
        "colab_type": "text"
      },
      "source": [
        "## Try #4: Like #3, but with dropout"
      ]
    },
    {
      "cell_type": "code",
      "metadata": {
        "id": "-T8VuIr2mryy",
        "colab_type": "code",
        "colab": {}
      },
      "source": [
        "model = Sequential()\n",
        "\n",
        "model.add(Conv2D(256, (4, 4), input_shape=X.shape[1:], activation=\"relu\"))\n",
        "model.add(Conv2D(256, (4, 4), activation=\"relu\"))\n",
        "model.add(MaxPooling2D(pool_size=(2, 2)))\n",
        "model.add(Dropout(0.5))\n",
        "\n",
        "model.add(Conv2D(256, (4, 4), activation=\"relu\"))\n",
        "model.add(Conv2D(256, (4, 4), activation=\"relu\"))\n",
        "model.add(MaxPooling2D(pool_size=(2, 2)))\n",
        "model.add(Dropout(0.5))\n",
        "\n",
        "model.add(Conv2D(256, (4, 4), activation=\"relu\"))\n",
        "model.add(MaxPooling2D(pool_size=(2, 2)))\n",
        "model.add(Dropout(0.5))\n",
        "\n",
        "model.add(Flatten())  # this converts our 3D feature maps to 1D feature vectors\n",
        "\n",
        "model.add(Dense(100))\n",
        "model.add(Dropout(0.5))\n",
        "\n",
        "model.add(Dense(7, activation=\"softmax\"))  # or sigmoid?\n",
        "\n",
        "model.summary()"
      ],
      "execution_count": 0,
      "outputs": []
    },
    {
      "cell_type": "code",
      "metadata": {
        "id": "guXBonzqnIib",
        "colab_type": "code",
        "colab": {}
      },
      "source": [
        "model, history = train_model(model, name=\"test4_5conv_dropout\")"
      ],
      "execution_count": 0,
      "outputs": []
    }
  ]
}